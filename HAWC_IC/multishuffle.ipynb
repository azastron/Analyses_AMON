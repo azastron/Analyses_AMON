{
 "cells": [
  {
   "cell_type": "code",
   "execution_count": 1,
   "metadata": {
    "collapsed": true
   },
   "outputs": [],
   "source": [
    "import numpy as np\n",
    "import pandas as pd\n",
    "import matplotlib\n",
    "import matplotlib.pyplot as plt\n",
    "import matplotlib.dates as mdates\n",
    "import random"
   ]
  },
  {
   "cell_type": "code",
   "execution_count": 13,
   "metadata": {
    "collapsed": true
   },
   "outputs": [],
   "source": [
    "# 1 year of data\n",
    "df = pd.read_csv('IC-singlet-Dec15old-Jan16new-shuffled.csv')"
   ]
  },
  {
   "cell_type": "code",
   "execution_count": 14,
   "metadata": {},
   "outputs": [
    {
     "data": {
      "text/html": [
       "<div>\n",
       "<style>\n",
       "    .dataframe thead tr:only-child th {\n",
       "        text-align: right;\n",
       "    }\n",
       "\n",
       "    .dataframe thead th {\n",
       "        text-align: left;\n",
       "    }\n",
       "\n",
       "    .dataframe tbody tr th {\n",
       "        vertical-align: top;\n",
       "    }\n",
       "</style>\n",
       "<table border=\"1\" class=\"dataframe\">\n",
       "  <thead>\n",
       "    <tr style=\"text-align: right;\">\n",
       "      <th></th>\n",
       "      <th>ICDec</th>\n",
       "      <th>ICRA</th>\n",
       "      <th>ICsigmaR</th>\n",
       "      <th>ICtime</th>\n",
       "      <th>ICmsec</th>\n",
       "    </tr>\n",
       "  </thead>\n",
       "  <tbody>\n",
       "    <tr>\n",
       "      <th>0</th>\n",
       "      <td>52.5356</td>\n",
       "      <td>68.9134</td>\n",
       "      <td>3.250450</td>\n",
       "      <td>2016-01-08 09:41:38</td>\n",
       "      <td>254809</td>\n",
       "    </tr>\n",
       "    <tr>\n",
       "      <th>1</th>\n",
       "      <td>34.7128</td>\n",
       "      <td>167.9790</td>\n",
       "      <td>0.505990</td>\n",
       "      <td>2016-01-12 18:18:12</td>\n",
       "      <td>718759</td>\n",
       "    </tr>\n",
       "    <tr>\n",
       "      <th>2</th>\n",
       "      <td>58.2016</td>\n",
       "      <td>308.8210</td>\n",
       "      <td>7.984470</td>\n",
       "      <td>2016-01-05 09:53:38</td>\n",
       "      <td>966684</td>\n",
       "    </tr>\n",
       "    <tr>\n",
       "      <th>3</th>\n",
       "      <td>29.7359</td>\n",
       "      <td>62.8768</td>\n",
       "      <td>1.442960</td>\n",
       "      <td>2016-01-15 11:07:53</td>\n",
       "      <td>352287</td>\n",
       "    </tr>\n",
       "    <tr>\n",
       "      <th>4</th>\n",
       "      <td>36.4621</td>\n",
       "      <td>276.2750</td>\n",
       "      <td>0.622407</td>\n",
       "      <td>2016-01-24 20:09:17</td>\n",
       "      <td>968384</td>\n",
       "    </tr>\n",
       "  </tbody>\n",
       "</table>\n",
       "</div>"
      ],
      "text/plain": [
       "     ICDec      ICRA  ICsigmaR               ICtime  ICmsec\n",
       "0  52.5356   68.9134  3.250450  2016-01-08 09:41:38  254809\n",
       "1  34.7128  167.9790  0.505990  2016-01-12 18:18:12  718759\n",
       "2  58.2016  308.8210  7.984470  2016-01-05 09:53:38  966684\n",
       "3  29.7359   62.8768  1.442960  2016-01-15 11:07:53  352287\n",
       "4  36.4621  276.2750  0.622407  2016-01-24 20:09:17  968384"
      ]
     },
     "execution_count": 14,
     "metadata": {},
     "output_type": "execute_result"
    }
   ],
   "source": [
    "df.head(5)"
   ]
  },
  {
   "cell_type": "code",
   "execution_count": 15,
   "metadata": {
    "collapsed": true
   },
   "outputs": [],
   "source": [
    "# scramble IceCube data\n",
    "for i in range(1):\n",
    "    df2 = df.reindex(np.random.permutation(df.index))\n",
    "    df2.reset_index(drop=True, inplace=True)\n",
    "    df2[['ICDec','ICsigmaR']] = df[['ICDec','ICsigmaR']]\n",
    "    df2.columns=['ICDec','ICRA','ICsigmaR','ICtime','ICmsec']\n",
    "    df2.to_csv(\"IC-Jan16-energy-scrambled{}.csv\".format(i),index=False,encoding='utf-8')"
   ]
  },
  {
   "cell_type": "code",
   "execution_count": 16,
   "metadata": {},
   "outputs": [
    {
     "data": {
      "text/html": [
       "<div>\n",
       "<style>\n",
       "    .dataframe thead tr:only-child th {\n",
       "        text-align: right;\n",
       "    }\n",
       "\n",
       "    .dataframe thead th {\n",
       "        text-align: left;\n",
       "    }\n",
       "\n",
       "    .dataframe tbody tr th {\n",
       "        vertical-align: top;\n",
       "    }\n",
       "</style>\n",
       "<table border=\"1\" class=\"dataframe\">\n",
       "  <thead>\n",
       "    <tr style=\"text-align: right;\">\n",
       "      <th></th>\n",
       "      <th>ICDec</th>\n",
       "      <th>ICRA</th>\n",
       "      <th>ICsigmaR</th>\n",
       "      <th>ICtime</th>\n",
       "      <th>ICmsec</th>\n",
       "    </tr>\n",
       "  </thead>\n",
       "  <tbody>\n",
       "    <tr>\n",
       "      <th>0</th>\n",
       "      <td>52.5356</td>\n",
       "      <td>176.8270</td>\n",
       "      <td>3.250450</td>\n",
       "      <td>2016-01-11 10:57:23</td>\n",
       "      <td>375423</td>\n",
       "    </tr>\n",
       "    <tr>\n",
       "      <th>1</th>\n",
       "      <td>34.7128</td>\n",
       "      <td>162.5480</td>\n",
       "      <td>0.505990</td>\n",
       "      <td>2016-01-19 23:05:06</td>\n",
       "      <td>91141</td>\n",
       "    </tr>\n",
       "    <tr>\n",
       "      <th>2</th>\n",
       "      <td>58.2016</td>\n",
       "      <td>22.6995</td>\n",
       "      <td>7.984470</td>\n",
       "      <td>2016-01-07 06:07:57</td>\n",
       "      <td>718874</td>\n",
       "    </tr>\n",
       "    <tr>\n",
       "      <th>3</th>\n",
       "      <td>29.7359</td>\n",
       "      <td>162.4150</td>\n",
       "      <td>1.442960</td>\n",
       "      <td>2016-01-14 04:06:56</td>\n",
       "      <td>258034</td>\n",
       "    </tr>\n",
       "    <tr>\n",
       "      <th>4</th>\n",
       "      <td>36.4621</td>\n",
       "      <td>264.1050</td>\n",
       "      <td>0.622407</td>\n",
       "      <td>2016-01-29 07:37:02</td>\n",
       "      <td>758520</td>\n",
       "    </tr>\n",
       "  </tbody>\n",
       "</table>\n",
       "</div>"
      ],
      "text/plain": [
       "     ICDec      ICRA  ICsigmaR               ICtime  ICmsec\n",
       "0  52.5356  176.8270  3.250450  2016-01-11 10:57:23  375423\n",
       "1  34.7128  162.5480  0.505990  2016-01-19 23:05:06   91141\n",
       "2  58.2016   22.6995  7.984470  2016-01-07 06:07:57  718874\n",
       "3  29.7359  162.4150  1.442960  2016-01-14 04:06:56  258034\n",
       "4  36.4621  264.1050  0.622407  2016-01-29 07:37:02  758520"
      ]
     },
     "execution_count": 16,
     "metadata": {},
     "output_type": "execute_result"
    }
   ],
   "source": [
    "df2.head(5)"
   ]
  },
  {
   "cell_type": "code",
   "execution_count": 17,
   "metadata": {},
   "outputs": [],
   "source": [
    "#file with no energy\n",
    "for i in range(500):\n",
    "    df2 = df.reindex(np.random.permutation(df.index))\n",
    "    df2.reset_index(drop=True, inplace=True)\n",
    "    df2[['ICDec','ICsigmaR']] = df[['ICDec','ICsigmaR']]\n",
    "    df2.columns=['ICDec','ICRA','ICsigmaR','ICtime','ICmsec']\n",
    "    df2.to_csv(\"IC_scrambled/{}.csv\".format(i),\n",
    "          index=False,encoding='utf-8')"
   ]
  },
  {
   "cell_type": "code",
   "execution_count": null,
   "metadata": {
    "collapsed": true
   },
   "outputs": [],
   "source": []
  }
 ],
 "metadata": {
  "kernelspec": {
   "display_name": "Python 2",
   "language": "python",
   "name": "python2"
  },
  "language_info": {
   "codemirror_mode": {
    "name": "ipython",
    "version": 2
   },
   "file_extension": ".py",
   "mimetype": "text/x-python",
   "name": "python",
   "nbconvert_exporter": "python",
   "pygments_lexer": "ipython2",
   "version": "2.7.13"
  }
 },
 "nbformat": 4,
 "nbformat_minor": 2
}
